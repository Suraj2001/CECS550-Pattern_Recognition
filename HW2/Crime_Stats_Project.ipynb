{
  "cells": [
    {
      "cell_type": "markdown",
      "id": "55e6b918-afac-43e8-b338-43f8ac64014f",
      "metadata": {
        "id": "55e6b918-afac-43e8-b338-43f8ac64014f"
      },
      "source": [
        "##  Deep Neural Networks Project"
      ]
    },
    {
      "cell_type": "markdown",
      "id": "1a8e066d-2849-4a6e-9c71-bb98d605ae07",
      "metadata": {
        "id": "1a8e066d-2849-4a6e-9c71-bb98d605ae07"
      },
      "source": [
        "In this project, you will be working with a real-world data set from the Las Vegas Metropolitan Police Department. The dataset  contains information about the reported incidents, including the time and location of the crime, type of incident, and number of persons involved."
      ]
    },
    {
      "cell_type": "markdown",
      "id": "9e87fac7-352a-4c39-b087-76254b5e2743",
      "metadata": {
        "id": "9e87fac7-352a-4c39-b087-76254b5e2743"
      },
      "source": [
        "The dataset is downloaded from the public docket at:\n",
        "https://opendata-lvmpd.hub.arcgis.com\n",
        "\n",
        "let's read the csv file and transform the data:"
      ]
    },
    {
      "cell_type": "code",
      "execution_count": 276,
      "id": "637211a4-582f-426b-a127-c3f284463f35",
      "metadata": {
        "id": "637211a4-582f-426b-a127-c3f284463f35"
      },
      "outputs": [],
      "source": [
        "import torch\n",
        "import pandas as pd\n",
        "from torch.utils.data import DataLoader, Dataset\n",
        "import matplotlib.pyplot as plt\n",
        "import seaborn as sns\n",
        "import numpy as np"
      ]
    },
    {
      "cell_type": "code",
      "execution_count": 277,
      "id": "bcf40b02-80b6-4abc-a662-f7ed50a65181",
      "metadata": {
        "id": "bcf40b02-80b6-4abc-a662-f7ed50a65181"
      },
      "outputs": [],
      "source": [
        "#Importing dataset from the github.\n",
        "url = 'https://github.com/Suraj2001/CECS550-Pattern_Recognition/blob/main/HW2/Dataset/LVMPD-Stats.csv?raw=true'\n",
        "\n",
        "orig_df = pd.read_csv(url, parse_dates=['ReportedOn'])"
      ]
    },
    {
      "cell_type": "code",
      "execution_count": 278,
      "id": "e1ca1d15-3955-4971-a3c4-c1a73b62edda",
      "metadata": {
        "id": "e1ca1d15-3955-4971-a3c4-c1a73b62edda"
      },
      "outputs": [],
      "source": [
        "df = pd.read_csv(url, parse_dates=['ReportedOn'],\n",
        "                 usecols = ['X', 'Y', 'ReportedOn',\n",
        "                            'Area_Command','NIBRSOffenseCode',\n",
        "                            'VictimCount' ] )\n",
        "\n",
        "df['DayOfWeek'] = df['ReportedOn'].dt.day_name()\n",
        "df['Time' ]     = df['ReportedOn'].dt.hour\n",
        "df.drop(columns = 'ReportedOn', inplace=True)"
      ]
    },
    {
      "cell_type": "code",
      "execution_count": 279,
      "id": "3ddc413d-ba3f-4204-bc18-7fdd4de8d221",
      "metadata": {
        "id": "3ddc413d-ba3f-4204-bc18-7fdd4de8d221"
      },
      "outputs": [],
      "source": [
        "\n",
        "df['X'] = df['X']\n",
        "df['Y'] = df['Y']\n",
        "df['Time'] = pd.factorize(df['Time'])[0]\n",
        "df['DayOfWeek'] = pd.factorize(df['DayOfWeek'])[0]\n",
        "df.Area_Command = pd.factorize(df['Area_Command'])[0]\n",
        "df.VictimCount = pd.factorize(df['VictimCount'])[0]\n",
        "df.NIBRSOffenseCode = pd.factorize(df['NIBRSOffenseCode'])[0]\n",
        "df.dropna(inplace=True)"
      ]
    },
    {
      "cell_type": "code",
      "execution_count": 280,
      "id": "a9c6162f-9686-4195-818d-950a6368c686",
      "metadata": {
        "id": "a9c6162f-9686-4195-818d-950a6368c686"
      },
      "outputs": [],
      "source": [
        "df= df[['X', 'Y', 'Area_Command', 'NIBRSOffenseCode',\n",
        "       'DayOfWeek', 'Time','VictimCount']]"
      ]
    },
    {
      "cell_type": "code",
      "execution_count": 281,
      "id": "a90bc78a-6d1b-4fe4-a1b0-8333aec1c851",
      "metadata": {
        "colab": {
          "base_uri": "https://localhost:8080/"
        },
        "id": "a90bc78a-6d1b-4fe4-a1b0-8333aec1c851",
        "outputId": "035ad5ce-98b1-4b26-c09e-f67651f71df0"
      },
      "outputs": [
        {
          "output_type": "execute_result",
          "data": {
            "text/plain": [
              "(275, 7)"
            ]
          },
          "metadata": {},
          "execution_count": 281
        }
      ],
      "source": [
        "df.values.shape"
      ]
    },
    {
      "cell_type": "markdown",
      "id": "651605b1-8d2c-4d3e-a09e-9aef6e550fc6",
      "metadata": {
        "id": "651605b1-8d2c-4d3e-a09e-9aef6e550fc6"
      },
      "source": [
        "# Goal\n",
        "The goal is to build a predictive model that is trained on the following data:\n",
        "* latitude and longitude (location)\n",
        "* Hour of the day\n",
        "* Day of the week\n",
        "* Area-of-command code: The police designation of the bureau of the operation.\n",
        "* Classification code for the crime committed\n",
        "  \n",
        "The predicted variable is the number of persons involved in the accident.\n"
      ]
    },
    {
      "cell_type": "markdown",
      "id": "0e54f0b8-83f9-4db9-88f9-f5a595342069",
      "metadata": {
        "id": "0e54f0b8-83f9-4db9-88f9-f5a595342069"
      },
      "source": [
        "## Task 1\n",
        "* print a few rows of the values in the dataframe ``df`` and explain what each column of data means.\n",
        "* identify the input and target variables\n",
        "* what is the range of values in each column? Do you need to scale, shift or normalize your data?\n"
      ]
    },
    {
      "cell_type": "code",
      "source": [
        "df.head(5)"
      ],
      "metadata": {
        "colab": {
          "base_uri": "https://localhost:8080/",
          "height": 206
        },
        "id": "7AlxMkjl8-OV",
        "outputId": "3c4229cb-b8d5-471c-cf61-fcc659573e06"
      },
      "id": "7AlxMkjl8-OV",
      "execution_count": 282,
      "outputs": [
        {
          "output_type": "execute_result",
          "data": {
            "text/plain": [
              "            X          Y  Area_Command  NIBRSOffenseCode  DayOfWeek  Time  \\\n",
              "0 -115.087518  36.216702             0                 0          0     0   \n",
              "1 -115.240172  36.189693             1                 1          1     1   \n",
              "2 -115.143088  36.181329             2                 1          2     0   \n",
              "3 -115.225014  36.117633             3                 1          1     2   \n",
              "4 -115.176708  36.095967             4                 1          1     3   \n",
              "\n",
              "   VictimCount  \n",
              "0            0  \n",
              "1            0  \n",
              "2            1  \n",
              "3            2  \n",
              "4            0  "
            ],
            "text/html": [
              "\n",
              "  <div id=\"df-f40ff1ce-42f0-4962-bfb3-7efc6b43a05c\" class=\"colab-df-container\">\n",
              "    <div>\n",
              "<style scoped>\n",
              "    .dataframe tbody tr th:only-of-type {\n",
              "        vertical-align: middle;\n",
              "    }\n",
              "\n",
              "    .dataframe tbody tr th {\n",
              "        vertical-align: top;\n",
              "    }\n",
              "\n",
              "    .dataframe thead th {\n",
              "        text-align: right;\n",
              "    }\n",
              "</style>\n",
              "<table border=\"1\" class=\"dataframe\">\n",
              "  <thead>\n",
              "    <tr style=\"text-align: right;\">\n",
              "      <th></th>\n",
              "      <th>X</th>\n",
              "      <th>Y</th>\n",
              "      <th>Area_Command</th>\n",
              "      <th>NIBRSOffenseCode</th>\n",
              "      <th>DayOfWeek</th>\n",
              "      <th>Time</th>\n",
              "      <th>VictimCount</th>\n",
              "    </tr>\n",
              "  </thead>\n",
              "  <tbody>\n",
              "    <tr>\n",
              "      <th>0</th>\n",
              "      <td>-115.087518</td>\n",
              "      <td>36.216702</td>\n",
              "      <td>0</td>\n",
              "      <td>0</td>\n",
              "      <td>0</td>\n",
              "      <td>0</td>\n",
              "      <td>0</td>\n",
              "    </tr>\n",
              "    <tr>\n",
              "      <th>1</th>\n",
              "      <td>-115.240172</td>\n",
              "      <td>36.189693</td>\n",
              "      <td>1</td>\n",
              "      <td>1</td>\n",
              "      <td>1</td>\n",
              "      <td>1</td>\n",
              "      <td>0</td>\n",
              "    </tr>\n",
              "    <tr>\n",
              "      <th>2</th>\n",
              "      <td>-115.143088</td>\n",
              "      <td>36.181329</td>\n",
              "      <td>2</td>\n",
              "      <td>1</td>\n",
              "      <td>2</td>\n",
              "      <td>0</td>\n",
              "      <td>1</td>\n",
              "    </tr>\n",
              "    <tr>\n",
              "      <th>3</th>\n",
              "      <td>-115.225014</td>\n",
              "      <td>36.117633</td>\n",
              "      <td>3</td>\n",
              "      <td>1</td>\n",
              "      <td>1</td>\n",
              "      <td>2</td>\n",
              "      <td>2</td>\n",
              "    </tr>\n",
              "    <tr>\n",
              "      <th>4</th>\n",
              "      <td>-115.176708</td>\n",
              "      <td>36.095967</td>\n",
              "      <td>4</td>\n",
              "      <td>1</td>\n",
              "      <td>1</td>\n",
              "      <td>3</td>\n",
              "      <td>0</td>\n",
              "    </tr>\n",
              "  </tbody>\n",
              "</table>\n",
              "</div>\n",
              "    <div class=\"colab-df-buttons\">\n",
              "\n",
              "  <div class=\"colab-df-container\">\n",
              "    <button class=\"colab-df-convert\" onclick=\"convertToInteractive('df-f40ff1ce-42f0-4962-bfb3-7efc6b43a05c')\"\n",
              "            title=\"Convert this dataframe to an interactive table.\"\n",
              "            style=\"display:none;\">\n",
              "\n",
              "  <svg xmlns=\"http://www.w3.org/2000/svg\" height=\"24px\" viewBox=\"0 -960 960 960\">\n",
              "    <path d=\"M120-120v-720h720v720H120Zm60-500h600v-160H180v160Zm220 220h160v-160H400v160Zm0 220h160v-160H400v160ZM180-400h160v-160H180v160Zm440 0h160v-160H620v160ZM180-180h160v-160H180v160Zm440 0h160v-160H620v160Z\"/>\n",
              "  </svg>\n",
              "    </button>\n",
              "\n",
              "  <style>\n",
              "    .colab-df-container {\n",
              "      display:flex;\n",
              "      gap: 12px;\n",
              "    }\n",
              "\n",
              "    .colab-df-convert {\n",
              "      background-color: #E8F0FE;\n",
              "      border: none;\n",
              "      border-radius: 50%;\n",
              "      cursor: pointer;\n",
              "      display: none;\n",
              "      fill: #1967D2;\n",
              "      height: 32px;\n",
              "      padding: 0 0 0 0;\n",
              "      width: 32px;\n",
              "    }\n",
              "\n",
              "    .colab-df-convert:hover {\n",
              "      background-color: #E2EBFA;\n",
              "      box-shadow: 0px 1px 2px rgba(60, 64, 67, 0.3), 0px 1px 3px 1px rgba(60, 64, 67, 0.15);\n",
              "      fill: #174EA6;\n",
              "    }\n",
              "\n",
              "    .colab-df-buttons div {\n",
              "      margin-bottom: 4px;\n",
              "    }\n",
              "\n",
              "    [theme=dark] .colab-df-convert {\n",
              "      background-color: #3B4455;\n",
              "      fill: #D2E3FC;\n",
              "    }\n",
              "\n",
              "    [theme=dark] .colab-df-convert:hover {\n",
              "      background-color: #434B5C;\n",
              "      box-shadow: 0px 1px 3px 1px rgba(0, 0, 0, 0.15);\n",
              "      filter: drop-shadow(0px 1px 2px rgba(0, 0, 0, 0.3));\n",
              "      fill: #FFFFFF;\n",
              "    }\n",
              "  </style>\n",
              "\n",
              "    <script>\n",
              "      const buttonEl =\n",
              "        document.querySelector('#df-f40ff1ce-42f0-4962-bfb3-7efc6b43a05c button.colab-df-convert');\n",
              "      buttonEl.style.display =\n",
              "        google.colab.kernel.accessAllowed ? 'block' : 'none';\n",
              "\n",
              "      async function convertToInteractive(key) {\n",
              "        const element = document.querySelector('#df-f40ff1ce-42f0-4962-bfb3-7efc6b43a05c');\n",
              "        const dataTable =\n",
              "          await google.colab.kernel.invokeFunction('convertToInteractive',\n",
              "                                                    [key], {});\n",
              "        if (!dataTable) return;\n",
              "\n",
              "        const docLinkHtml = 'Like what you see? Visit the ' +\n",
              "          '<a target=\"_blank\" href=https://colab.research.google.com/notebooks/data_table.ipynb>data table notebook</a>'\n",
              "          + ' to learn more about interactive tables.';\n",
              "        element.innerHTML = '';\n",
              "        dataTable['output_type'] = 'display_data';\n",
              "        await google.colab.output.renderOutput(dataTable, element);\n",
              "        const docLink = document.createElement('div');\n",
              "        docLink.innerHTML = docLinkHtml;\n",
              "        element.appendChild(docLink);\n",
              "      }\n",
              "    </script>\n",
              "  </div>\n",
              "\n",
              "\n",
              "<div id=\"df-c6619c81-ba42-4f0d-b7b6-f09e57a72c12\">\n",
              "  <button class=\"colab-df-quickchart\" onclick=\"quickchart('df-c6619c81-ba42-4f0d-b7b6-f09e57a72c12')\"\n",
              "            title=\"Suggest charts.\"\n",
              "            style=\"display:none;\">\n",
              "\n",
              "<svg xmlns=\"http://www.w3.org/2000/svg\" height=\"24px\"viewBox=\"0 0 24 24\"\n",
              "     width=\"24px\">\n",
              "    <g>\n",
              "        <path d=\"M19 3H5c-1.1 0-2 .9-2 2v14c0 1.1.9 2 2 2h14c1.1 0 2-.9 2-2V5c0-1.1-.9-2-2-2zM9 17H7v-7h2v7zm4 0h-2V7h2v10zm4 0h-2v-4h2v4z\"/>\n",
              "    </g>\n",
              "</svg>\n",
              "  </button>\n",
              "\n",
              "<style>\n",
              "  .colab-df-quickchart {\n",
              "      --bg-color: #E8F0FE;\n",
              "      --fill-color: #1967D2;\n",
              "      --hover-bg-color: #E2EBFA;\n",
              "      --hover-fill-color: #174EA6;\n",
              "      --disabled-fill-color: #AAA;\n",
              "      --disabled-bg-color: #DDD;\n",
              "  }\n",
              "\n",
              "  [theme=dark] .colab-df-quickchart {\n",
              "      --bg-color: #3B4455;\n",
              "      --fill-color: #D2E3FC;\n",
              "      --hover-bg-color: #434B5C;\n",
              "      --hover-fill-color: #FFFFFF;\n",
              "      --disabled-bg-color: #3B4455;\n",
              "      --disabled-fill-color: #666;\n",
              "  }\n",
              "\n",
              "  .colab-df-quickchart {\n",
              "    background-color: var(--bg-color);\n",
              "    border: none;\n",
              "    border-radius: 50%;\n",
              "    cursor: pointer;\n",
              "    display: none;\n",
              "    fill: var(--fill-color);\n",
              "    height: 32px;\n",
              "    padding: 0;\n",
              "    width: 32px;\n",
              "  }\n",
              "\n",
              "  .colab-df-quickchart:hover {\n",
              "    background-color: var(--hover-bg-color);\n",
              "    box-shadow: 0 1px 2px rgba(60, 64, 67, 0.3), 0 1px 3px 1px rgba(60, 64, 67, 0.15);\n",
              "    fill: var(--button-hover-fill-color);\n",
              "  }\n",
              "\n",
              "  .colab-df-quickchart-complete:disabled,\n",
              "  .colab-df-quickchart-complete:disabled:hover {\n",
              "    background-color: var(--disabled-bg-color);\n",
              "    fill: var(--disabled-fill-color);\n",
              "    box-shadow: none;\n",
              "  }\n",
              "\n",
              "  .colab-df-spinner {\n",
              "    border: 2px solid var(--fill-color);\n",
              "    border-color: transparent;\n",
              "    border-bottom-color: var(--fill-color);\n",
              "    animation:\n",
              "      spin 1s steps(1) infinite;\n",
              "  }\n",
              "\n",
              "  @keyframes spin {\n",
              "    0% {\n",
              "      border-color: transparent;\n",
              "      border-bottom-color: var(--fill-color);\n",
              "      border-left-color: var(--fill-color);\n",
              "    }\n",
              "    20% {\n",
              "      border-color: transparent;\n",
              "      border-left-color: var(--fill-color);\n",
              "      border-top-color: var(--fill-color);\n",
              "    }\n",
              "    30% {\n",
              "      border-color: transparent;\n",
              "      border-left-color: var(--fill-color);\n",
              "      border-top-color: var(--fill-color);\n",
              "      border-right-color: var(--fill-color);\n",
              "    }\n",
              "    40% {\n",
              "      border-color: transparent;\n",
              "      border-right-color: var(--fill-color);\n",
              "      border-top-color: var(--fill-color);\n",
              "    }\n",
              "    60% {\n",
              "      border-color: transparent;\n",
              "      border-right-color: var(--fill-color);\n",
              "    }\n",
              "    80% {\n",
              "      border-color: transparent;\n",
              "      border-right-color: var(--fill-color);\n",
              "      border-bottom-color: var(--fill-color);\n",
              "    }\n",
              "    90% {\n",
              "      border-color: transparent;\n",
              "      border-bottom-color: var(--fill-color);\n",
              "    }\n",
              "  }\n",
              "</style>\n",
              "\n",
              "  <script>\n",
              "    async function quickchart(key) {\n",
              "      const quickchartButtonEl =\n",
              "        document.querySelector('#' + key + ' button');\n",
              "      quickchartButtonEl.disabled = true;  // To prevent multiple clicks.\n",
              "      quickchartButtonEl.classList.add('colab-df-spinner');\n",
              "      try {\n",
              "        const charts = await google.colab.kernel.invokeFunction(\n",
              "            'suggestCharts', [key], {});\n",
              "      } catch (error) {\n",
              "        console.error('Error during call to suggestCharts:', error);\n",
              "      }\n",
              "      quickchartButtonEl.classList.remove('colab-df-spinner');\n",
              "      quickchartButtonEl.classList.add('colab-df-quickchart-complete');\n",
              "    }\n",
              "    (() => {\n",
              "      let quickchartButtonEl =\n",
              "        document.querySelector('#df-c6619c81-ba42-4f0d-b7b6-f09e57a72c12 button');\n",
              "      quickchartButtonEl.style.display =\n",
              "        google.colab.kernel.accessAllowed ? 'block' : 'none';\n",
              "    })();\n",
              "  </script>\n",
              "</div>\n",
              "    </div>\n",
              "  </div>\n"
            ]
          },
          "metadata": {},
          "execution_count": 282
        }
      ]
    },
    {
      "cell_type": "markdown",
      "source": [
        "X - Latitude coordinate\n",
        "\n",
        "Y - Longitude coordinate\n",
        "\n",
        "Area - Likely a geographic area identifier\n",
        "\n",
        "Command - Likely a police command area\n",
        "\n",
        "NIBRS - Likely refers to Crime Reporting System codes\n",
        "\n",
        "Offense Code - Type of crime committed\n",
        "\n",
        "Day of Week - Day of week the crime occurred (1 = Monday, 2 = Tuesday, etc.)\n",
        "\n",
        "Time - Time of day the crime occurred\n",
        "\n",
        "Victim Count - Number of victims in the crime"
      ],
      "metadata": {
        "id": "M9FN_bha-kQm"
      },
      "id": "M9FN_bha-kQm"
    },
    {
      "cell_type": "markdown",
      "source": [
        "###Based on the column names and data provided, the input and target variables appear to be:\n",
        "\n",
        "**Input Variables:**\n",
        "\n",
        "X (Longitude)\n",
        "\n",
        "Y (Latitude)\n",
        "\n",
        "Area\n",
        "\n",
        "Command\n",
        "\n",
        "NIBRS\n",
        "\n",
        "Offense Code\n",
        "\n",
        "Day of Week\n",
        "\n",
        "Time\n",
        "\n",
        "**Target Variable:**\n",
        "Victim Count\n",
        "\n",
        "The input variables provide attributes about the location, time, and type of crime committed. The target variable is the number of victims for each crime incident."
      ],
      "metadata": {
        "id": "ITEfhV_2-PZf"
      },
      "id": "ITEfhV_2-PZf"
    },
    {
      "cell_type": "markdown",
      "source": [
        "###**What is the range of values in each column? Do you need to scale, shift or normalize your data?**\n",
        "Based on the sample data provided, the longitude and latitude do not need scaling, while Day of Week needs encoding, and Victim Count could potentially use scaling/normalization. More data would be needed to determine if scaling is needed for the other columns with a single sample value.\n",
        "\n"
      ],
      "metadata": {
        "id": "00nGuBfj_PWO"
      },
      "id": "00nGuBfj_PWO"
    },
    {
      "cell_type": "code",
      "source": [
        "df.describe()"
      ],
      "metadata": {
        "colab": {
          "base_uri": "https://localhost:8080/",
          "height": 300
        },
        "id": "p9F17RR0MOlp",
        "outputId": "0b929222-a439-4805-fa3e-cd797dcfb4b4"
      },
      "id": "p9F17RR0MOlp",
      "execution_count": 283,
      "outputs": [
        {
          "output_type": "execute_result",
          "data": {
            "text/plain": [
              "                X           Y  Area_Command  NIBRSOffenseCode   DayOfWeek  \\\n",
              "count  275.000000  275.000000    275.000000        275.000000  275.000000   \n",
              "mean  -115.159326   36.143360      3.978182          0.909091    2.981818   \n",
              "std      0.101294    0.118418      3.045799          0.334878    1.924590   \n",
              "min   -116.000000   35.068419      0.000000          0.000000    0.000000   \n",
              "25%   -115.209198   36.114704      1.000000          1.000000    1.000000   \n",
              "50%   -115.149945   36.152415      3.000000          1.000000    3.000000   \n",
              "75%   -115.105200   36.183854      6.000000          1.000000    5.000000   \n",
              "max   -114.625570   37.000000     11.000000          2.000000    6.000000   \n",
              "\n",
              "             Time  VictimCount  \n",
              "count  275.000000   275.000000  \n",
              "mean    11.236364     0.712727  \n",
              "std      7.039937     0.978427  \n",
              "min      0.000000     0.000000  \n",
              "25%      5.000000     0.000000  \n",
              "50%     11.000000     0.000000  \n",
              "75%     18.000000     1.000000  \n",
              "max     23.000000     6.000000  "
            ],
            "text/html": [
              "\n",
              "  <div id=\"df-79b856da-9770-4b31-be9f-5ea8c6d99fec\" class=\"colab-df-container\">\n",
              "    <div>\n",
              "<style scoped>\n",
              "    .dataframe tbody tr th:only-of-type {\n",
              "        vertical-align: middle;\n",
              "    }\n",
              "\n",
              "    .dataframe tbody tr th {\n",
              "        vertical-align: top;\n",
              "    }\n",
              "\n",
              "    .dataframe thead th {\n",
              "        text-align: right;\n",
              "    }\n",
              "</style>\n",
              "<table border=\"1\" class=\"dataframe\">\n",
              "  <thead>\n",
              "    <tr style=\"text-align: right;\">\n",
              "      <th></th>\n",
              "      <th>X</th>\n",
              "      <th>Y</th>\n",
              "      <th>Area_Command</th>\n",
              "      <th>NIBRSOffenseCode</th>\n",
              "      <th>DayOfWeek</th>\n",
              "      <th>Time</th>\n",
              "      <th>VictimCount</th>\n",
              "    </tr>\n",
              "  </thead>\n",
              "  <tbody>\n",
              "    <tr>\n",
              "      <th>count</th>\n",
              "      <td>275.000000</td>\n",
              "      <td>275.000000</td>\n",
              "      <td>275.000000</td>\n",
              "      <td>275.000000</td>\n",
              "      <td>275.000000</td>\n",
              "      <td>275.000000</td>\n",
              "      <td>275.000000</td>\n",
              "    </tr>\n",
              "    <tr>\n",
              "      <th>mean</th>\n",
              "      <td>-115.159326</td>\n",
              "      <td>36.143360</td>\n",
              "      <td>3.978182</td>\n",
              "      <td>0.909091</td>\n",
              "      <td>2.981818</td>\n",
              "      <td>11.236364</td>\n",
              "      <td>0.712727</td>\n",
              "    </tr>\n",
              "    <tr>\n",
              "      <th>std</th>\n",
              "      <td>0.101294</td>\n",
              "      <td>0.118418</td>\n",
              "      <td>3.045799</td>\n",
              "      <td>0.334878</td>\n",
              "      <td>1.924590</td>\n",
              "      <td>7.039937</td>\n",
              "      <td>0.978427</td>\n",
              "    </tr>\n",
              "    <tr>\n",
              "      <th>min</th>\n",
              "      <td>-116.000000</td>\n",
              "      <td>35.068419</td>\n",
              "      <td>0.000000</td>\n",
              "      <td>0.000000</td>\n",
              "      <td>0.000000</td>\n",
              "      <td>0.000000</td>\n",
              "      <td>0.000000</td>\n",
              "    </tr>\n",
              "    <tr>\n",
              "      <th>25%</th>\n",
              "      <td>-115.209198</td>\n",
              "      <td>36.114704</td>\n",
              "      <td>1.000000</td>\n",
              "      <td>1.000000</td>\n",
              "      <td>1.000000</td>\n",
              "      <td>5.000000</td>\n",
              "      <td>0.000000</td>\n",
              "    </tr>\n",
              "    <tr>\n",
              "      <th>50%</th>\n",
              "      <td>-115.149945</td>\n",
              "      <td>36.152415</td>\n",
              "      <td>3.000000</td>\n",
              "      <td>1.000000</td>\n",
              "      <td>3.000000</td>\n",
              "      <td>11.000000</td>\n",
              "      <td>0.000000</td>\n",
              "    </tr>\n",
              "    <tr>\n",
              "      <th>75%</th>\n",
              "      <td>-115.105200</td>\n",
              "      <td>36.183854</td>\n",
              "      <td>6.000000</td>\n",
              "      <td>1.000000</td>\n",
              "      <td>5.000000</td>\n",
              "      <td>18.000000</td>\n",
              "      <td>1.000000</td>\n",
              "    </tr>\n",
              "    <tr>\n",
              "      <th>max</th>\n",
              "      <td>-114.625570</td>\n",
              "      <td>37.000000</td>\n",
              "      <td>11.000000</td>\n",
              "      <td>2.000000</td>\n",
              "      <td>6.000000</td>\n",
              "      <td>23.000000</td>\n",
              "      <td>6.000000</td>\n",
              "    </tr>\n",
              "  </tbody>\n",
              "</table>\n",
              "</div>\n",
              "    <div class=\"colab-df-buttons\">\n",
              "\n",
              "  <div class=\"colab-df-container\">\n",
              "    <button class=\"colab-df-convert\" onclick=\"convertToInteractive('df-79b856da-9770-4b31-be9f-5ea8c6d99fec')\"\n",
              "            title=\"Convert this dataframe to an interactive table.\"\n",
              "            style=\"display:none;\">\n",
              "\n",
              "  <svg xmlns=\"http://www.w3.org/2000/svg\" height=\"24px\" viewBox=\"0 -960 960 960\">\n",
              "    <path d=\"M120-120v-720h720v720H120Zm60-500h600v-160H180v160Zm220 220h160v-160H400v160Zm0 220h160v-160H400v160ZM180-400h160v-160H180v160Zm440 0h160v-160H620v160ZM180-180h160v-160H180v160Zm440 0h160v-160H620v160Z\"/>\n",
              "  </svg>\n",
              "    </button>\n",
              "\n",
              "  <style>\n",
              "    .colab-df-container {\n",
              "      display:flex;\n",
              "      gap: 12px;\n",
              "    }\n",
              "\n",
              "    .colab-df-convert {\n",
              "      background-color: #E8F0FE;\n",
              "      border: none;\n",
              "      border-radius: 50%;\n",
              "      cursor: pointer;\n",
              "      display: none;\n",
              "      fill: #1967D2;\n",
              "      height: 32px;\n",
              "      padding: 0 0 0 0;\n",
              "      width: 32px;\n",
              "    }\n",
              "\n",
              "    .colab-df-convert:hover {\n",
              "      background-color: #E2EBFA;\n",
              "      box-shadow: 0px 1px 2px rgba(60, 64, 67, 0.3), 0px 1px 3px 1px rgba(60, 64, 67, 0.15);\n",
              "      fill: #174EA6;\n",
              "    }\n",
              "\n",
              "    .colab-df-buttons div {\n",
              "      margin-bottom: 4px;\n",
              "    }\n",
              "\n",
              "    [theme=dark] .colab-df-convert {\n",
              "      background-color: #3B4455;\n",
              "      fill: #D2E3FC;\n",
              "    }\n",
              "\n",
              "    [theme=dark] .colab-df-convert:hover {\n",
              "      background-color: #434B5C;\n",
              "      box-shadow: 0px 1px 3px 1px rgba(0, 0, 0, 0.15);\n",
              "      filter: drop-shadow(0px 1px 2px rgba(0, 0, 0, 0.3));\n",
              "      fill: #FFFFFF;\n",
              "    }\n",
              "  </style>\n",
              "\n",
              "    <script>\n",
              "      const buttonEl =\n",
              "        document.querySelector('#df-79b856da-9770-4b31-be9f-5ea8c6d99fec button.colab-df-convert');\n",
              "      buttonEl.style.display =\n",
              "        google.colab.kernel.accessAllowed ? 'block' : 'none';\n",
              "\n",
              "      async function convertToInteractive(key) {\n",
              "        const element = document.querySelector('#df-79b856da-9770-4b31-be9f-5ea8c6d99fec');\n",
              "        const dataTable =\n",
              "          await google.colab.kernel.invokeFunction('convertToInteractive',\n",
              "                                                    [key], {});\n",
              "        if (!dataTable) return;\n",
              "\n",
              "        const docLinkHtml = 'Like what you see? Visit the ' +\n",
              "          '<a target=\"_blank\" href=https://colab.research.google.com/notebooks/data_table.ipynb>data table notebook</a>'\n",
              "          + ' to learn more about interactive tables.';\n",
              "        element.innerHTML = '';\n",
              "        dataTable['output_type'] = 'display_data';\n",
              "        await google.colab.output.renderOutput(dataTable, element);\n",
              "        const docLink = document.createElement('div');\n",
              "        docLink.innerHTML = docLinkHtml;\n",
              "        element.appendChild(docLink);\n",
              "      }\n",
              "    </script>\n",
              "  </div>\n",
              "\n",
              "\n",
              "<div id=\"df-5f6523da-5e6b-4a06-83a5-eeadb66d64d7\">\n",
              "  <button class=\"colab-df-quickchart\" onclick=\"quickchart('df-5f6523da-5e6b-4a06-83a5-eeadb66d64d7')\"\n",
              "            title=\"Suggest charts.\"\n",
              "            style=\"display:none;\">\n",
              "\n",
              "<svg xmlns=\"http://www.w3.org/2000/svg\" height=\"24px\"viewBox=\"0 0 24 24\"\n",
              "     width=\"24px\">\n",
              "    <g>\n",
              "        <path d=\"M19 3H5c-1.1 0-2 .9-2 2v14c0 1.1.9 2 2 2h14c1.1 0 2-.9 2-2V5c0-1.1-.9-2-2-2zM9 17H7v-7h2v7zm4 0h-2V7h2v10zm4 0h-2v-4h2v4z\"/>\n",
              "    </g>\n",
              "</svg>\n",
              "  </button>\n",
              "\n",
              "<style>\n",
              "  .colab-df-quickchart {\n",
              "      --bg-color: #E8F0FE;\n",
              "      --fill-color: #1967D2;\n",
              "      --hover-bg-color: #E2EBFA;\n",
              "      --hover-fill-color: #174EA6;\n",
              "      --disabled-fill-color: #AAA;\n",
              "      --disabled-bg-color: #DDD;\n",
              "  }\n",
              "\n",
              "  [theme=dark] .colab-df-quickchart {\n",
              "      --bg-color: #3B4455;\n",
              "      --fill-color: #D2E3FC;\n",
              "      --hover-bg-color: #434B5C;\n",
              "      --hover-fill-color: #FFFFFF;\n",
              "      --disabled-bg-color: #3B4455;\n",
              "      --disabled-fill-color: #666;\n",
              "  }\n",
              "\n",
              "  .colab-df-quickchart {\n",
              "    background-color: var(--bg-color);\n",
              "    border: none;\n",
              "    border-radius: 50%;\n",
              "    cursor: pointer;\n",
              "    display: none;\n",
              "    fill: var(--fill-color);\n",
              "    height: 32px;\n",
              "    padding: 0;\n",
              "    width: 32px;\n",
              "  }\n",
              "\n",
              "  .colab-df-quickchart:hover {\n",
              "    background-color: var(--hover-bg-color);\n",
              "    box-shadow: 0 1px 2px rgba(60, 64, 67, 0.3), 0 1px 3px 1px rgba(60, 64, 67, 0.15);\n",
              "    fill: var(--button-hover-fill-color);\n",
              "  }\n",
              "\n",
              "  .colab-df-quickchart-complete:disabled,\n",
              "  .colab-df-quickchart-complete:disabled:hover {\n",
              "    background-color: var(--disabled-bg-color);\n",
              "    fill: var(--disabled-fill-color);\n",
              "    box-shadow: none;\n",
              "  }\n",
              "\n",
              "  .colab-df-spinner {\n",
              "    border: 2px solid var(--fill-color);\n",
              "    border-color: transparent;\n",
              "    border-bottom-color: var(--fill-color);\n",
              "    animation:\n",
              "      spin 1s steps(1) infinite;\n",
              "  }\n",
              "\n",
              "  @keyframes spin {\n",
              "    0% {\n",
              "      border-color: transparent;\n",
              "      border-bottom-color: var(--fill-color);\n",
              "      border-left-color: var(--fill-color);\n",
              "    }\n",
              "    20% {\n",
              "      border-color: transparent;\n",
              "      border-left-color: var(--fill-color);\n",
              "      border-top-color: var(--fill-color);\n",
              "    }\n",
              "    30% {\n",
              "      border-color: transparent;\n",
              "      border-left-color: var(--fill-color);\n",
              "      border-top-color: var(--fill-color);\n",
              "      border-right-color: var(--fill-color);\n",
              "    }\n",
              "    40% {\n",
              "      border-color: transparent;\n",
              "      border-right-color: var(--fill-color);\n",
              "      border-top-color: var(--fill-color);\n",
              "    }\n",
              "    60% {\n",
              "      border-color: transparent;\n",
              "      border-right-color: var(--fill-color);\n",
              "    }\n",
              "    80% {\n",
              "      border-color: transparent;\n",
              "      border-right-color: var(--fill-color);\n",
              "      border-bottom-color: var(--fill-color);\n",
              "    }\n",
              "    90% {\n",
              "      border-color: transparent;\n",
              "      border-bottom-color: var(--fill-color);\n",
              "    }\n",
              "  }\n",
              "</style>\n",
              "\n",
              "  <script>\n",
              "    async function quickchart(key) {\n",
              "      const quickchartButtonEl =\n",
              "        document.querySelector('#' + key + ' button');\n",
              "      quickchartButtonEl.disabled = true;  // To prevent multiple clicks.\n",
              "      quickchartButtonEl.classList.add('colab-df-spinner');\n",
              "      try {\n",
              "        const charts = await google.colab.kernel.invokeFunction(\n",
              "            'suggestCharts', [key], {});\n",
              "      } catch (error) {\n",
              "        console.error('Error during call to suggestCharts:', error);\n",
              "      }\n",
              "      quickchartButtonEl.classList.remove('colab-df-spinner');\n",
              "      quickchartButtonEl.classList.add('colab-df-quickchart-complete');\n",
              "    }\n",
              "    (() => {\n",
              "      let quickchartButtonEl =\n",
              "        document.querySelector('#df-5f6523da-5e6b-4a06-83a5-eeadb66d64d7 button');\n",
              "      quickchartButtonEl.style.display =\n",
              "        google.colab.kernel.accessAllowed ? 'block' : 'none';\n",
              "    })();\n",
              "  </script>\n",
              "</div>\n",
              "    </div>\n",
              "  </div>\n"
            ]
          },
          "metadata": {},
          "execution_count": 283
        }
      ]
    },
    {
      "cell_type": "markdown",
      "id": "5549ecc9-3c0b-4efa-9a1f-340a25a1e4be",
      "metadata": {
        "id": "5549ecc9-3c0b-4efa-9a1f-340a25a1e4be"
      },
      "source": [
        "## Task 2\n",
        "\n",
        "* Create two `DataLoader` objects for training and testing based on the input and output variables. Pick a reasonable batch size and verify the shape of data by iterating over the one dataset and printing the shape of the batched data."
      ]
    },
    {
      "cell_type": "code",
      "source": [
        "import torch\n",
        "import torch.nn as nn\n",
        "from torch.utils.data import TensorDataset, DataLoader, Dataset\n",
        "from sklearn.model_selection import train_test_split\n",
        "\n",
        "# Selecting the input features in X and target variable in y from the dataframe df.\n",
        "cols = ['X', 'Y', 'Area_Command',\t'NIBRSOffenseCode',\t'DayOfWeek',\t'Time']\n",
        "X = df[cols]\n",
        "y = df['VictimCount']\n",
        "\n",
        "# Splitting the data into training and test sets using sklearn's train_test_split. 80% is allocated for training and 20% is allocated for testing.\n",
        "X_train, X_test, y_train, y_test = train_test_split(X,\n",
        "                                                    y,\n",
        "                                                    test_size=0.2,\n",
        "                                                    random_state=42)\n",
        "\n",
        "# Converting the NumPy arrays obtained from train_test_split into PyTorch Tensors.\n",
        "X_train_ten = torch.tensor(X_train.values, dtype=torch.float)\n",
        "y_train_ten = torch.tensor(y_train.values, dtype=torch.float)\n",
        "X_test_ten =  torch.tensor(X_test.values, dtype=torch.float)\n",
        "y_test_ten =  torch.tensor(y_test.values, dtype=torch.float)\n",
        "\n",
        "# Creating TensorDataset objects to bundle the input and target tensors to create data loaders.\n",
        "train_dataset = TensorDataset(X_train_ten, y_train_ten)\n",
        "test_dataset = TensorDataset(X_test_ten, y_test_ten)\n",
        "\n",
        "# Creating DataLoader objects for the training and test set to generate batched data. Used a batch size of 32.\n",
        "batch_size = 32\n",
        "train_loader = DataLoader(train_dataset, batch_size=batch_size, shuffle=True)\n",
        "test_loader = DataLoader(test_dataset, batch_size=batch_size, shuffle=False)\n",
        "\n",
        "# Verifying the shape of the training data by looping.\n",
        "for batch_X, batch_y in train_loader:\n",
        "    print(batch_X.shape, batch_y.shape)\n",
        "    break"
      ],
      "metadata": {
        "colab": {
          "base_uri": "https://localhost:8080/"
        },
        "id": "eZtc5h4tm_ky",
        "outputId": "a2352f7c-2903-45ba-b247-cc258615d510"
      },
      "id": "eZtc5h4tm_ky",
      "execution_count": 284,
      "outputs": [
        {
          "output_type": "stream",
          "name": "stdout",
          "text": [
            "torch.Size([32, 6]) torch.Size([32])\n"
          ]
        }
      ]
    },
    {
      "cell_type": "markdown",
      "id": "1fb6f08c-5e70-4b14-b62c-4686d9f7aace",
      "metadata": {
        "id": "1fb6f08c-5e70-4b14-b62c-4686d9f7aace"
      },
      "source": [
        "## Task 3\n",
        "In this task you will try to predict number of crime victims as a **real number**. Therefore the machine learning problem is a **regression** problem.\n",
        "\n",
        "* Define the proper loss function for this task\n",
        "* what should the size of the predicted output be?\n",
        "* explain your choice of architecture, including how many layers you will be using\n",
        "* define an optimizer for training this model, choose a proper learning rate\n",
        "* write a training loop that obtains a batch out of the  training data and calculates the forward and backward passes over the neural network. Call the optimizer to update the weights of the neural network.\n",
        "* write a for loop that continues the training over a number of epochs. At the end of each epoch, calculate the ``MSE`` error on the test data and print it.\n",
        "* is your model training well? Adjust the learning rate, hidden size of the network, and try different activation functions and number of layers to achieve the best accuracy and report it."
      ]
    },
    {
      "cell_type": "code",
      "source": [
        "# Hyperparameters\n",
        "learning_rate = 0.001\n",
        "output_size = 1 # The output is a single predicted value for number of victims. So the output size should be 1.\n",
        "input_size = 6 # Number of Input features\n",
        "num_epochs = 200\n",
        "\n",
        "# Defining loss function\n",
        "loss_fn = nn.MSELoss()\n",
        "\n",
        "# Creating model architecture\n",
        "model = nn.Sequential(\n",
        "  nn.Linear(input_size, 32),\n",
        "  nn.Sigmoid(),\n",
        "  nn.Linear(32,16),\n",
        "  nn.Sigmoid(),\n",
        "  nn.Linear(16,8),\n",
        "  nn.ReLU(),\n",
        "  nn.Linear(8,4),\n",
        "  nn.ReLU(),\n",
        "  nn.Linear(4,2),\n",
        "  nn.ReLU(),\n",
        "  nn.Linear(2,1),\n",
        "  nn.ReLU(),\n",
        "  nn.Linear(1, output_size)\n",
        ")\n",
        "\n",
        "# Using Adam Optimizer\n",
        "optimizer = torch.optim.Adam(model.parameters(), lr=learning_rate)\n",
        "\n",
        "# Training loop\n",
        "for epoch in range(num_epochs):\n",
        "  for x_batch, y_batch in train_loader:\n",
        "    # Forward pass.\n",
        "    y_pred = model(x_batch)\n",
        "\n",
        "    # Calculate loss(MSE) for training data.\n",
        "    loss = loss_fn(y_pred, y_batch)\n",
        "\n",
        "    # Backward pass.\n",
        "    loss.backward()\n",
        "\n",
        "    # Update weights.\n",
        "    optimizer.step()\n",
        "\n",
        "    #Zero the gradients after updating.\n",
        "    optimizer.zero_grad()\n",
        "\n",
        "  # Calculating test loss\n",
        "  with torch.inference_mode():\n",
        "    for x_test, y_test in test_loader:\n",
        "          # Load images with gradient accumulation capabilities.\n",
        "          x_test = x_test.requires_grad_()\n",
        "\n",
        "          # Forward pass on test data to get predictions.\n",
        "          output = model(x_test)\n",
        "\n",
        "          # Loss for test data.\n",
        "          test_loss = loss_fn(output,y_test)\n",
        "\n",
        "  # Prints training and test loss every 10 epochs to monitor progress.\n",
        "  if (epoch+1) % 10 == 0:\n",
        "    print(f'Epoch: {epoch+1}, Training MSE: {loss:.3f}, Test_MSE: {test_loss:.3f}')\n"
      ],
      "metadata": {
        "colab": {
          "base_uri": "https://localhost:8080/"
        },
        "id": "zZzYIz7wpOm3",
        "outputId": "bd58ec5b-222d-430d-e600-e176d5cd8e80"
      },
      "id": "zZzYIz7wpOm3",
      "execution_count": 293,
      "outputs": [
        {
          "output_type": "stream",
          "name": "stdout",
          "text": [
            "Epoch: 10, Training MSE: 2.528, Test_MSE: 2.345\n",
            "Epoch: 20, Training MSE: 1.673, Test_MSE: 2.182\n",
            "Epoch: 30, Training MSE: 1.418, Test_MSE: 2.033\n",
            "Epoch: 40, Training MSE: 2.040, Test_MSE: 1.896\n",
            "Epoch: 50, Training MSE: 1.933, Test_MSE: 1.771\n",
            "Epoch: 60, Training MSE: 1.768, Test_MSE: 1.657\n",
            "Epoch: 70, Training MSE: 2.522, Test_MSE: 1.554\n",
            "Epoch: 80, Training MSE: 1.746, Test_MSE: 1.461\n",
            "Epoch: 90, Training MSE: 1.311, Test_MSE: 1.376\n",
            "Epoch: 100, Training MSE: 0.873, Test_MSE: 1.301\n",
            "Epoch: 110, Training MSE: 1.171, Test_MSE: 1.233\n",
            "Epoch: 120, Training MSE: 1.594, Test_MSE: 1.173\n",
            "Epoch: 130, Training MSE: 0.805, Test_MSE: 1.119\n",
            "Epoch: 140, Training MSE: 0.783, Test_MSE: 1.072\n",
            "Epoch: 150, Training MSE: 1.225, Test_MSE: 1.030\n",
            "Epoch: 160, Training MSE: 0.750, Test_MSE: 0.994\n",
            "Epoch: 170, Training MSE: 0.966, Test_MSE: 0.962\n",
            "Epoch: 180, Training MSE: 0.763, Test_MSE: 0.934\n",
            "Epoch: 190, Training MSE: 0.714, Test_MSE: 0.910\n",
            "Epoch: 200, Training MSE: 0.681, Test_MSE: 0.890\n"
          ]
        }
      ]
    },
    {
      "cell_type": "markdown",
      "source": [
        "###**Explain your choice of architecture, including how many layers you will be using?**\n",
        "I've created feedforward fully-connected neural network model using nn.Sequential with infusing linear layers along with different activation functions like ReLU and Sigmoid. In total, I've utilised 7 linear layers out of which 5 are hidden layers comprising of 2 sigmoid functions and 4 ReLU(rectified linear unit) functions."
      ],
      "metadata": {
        "id": "kFUZu79iZVx7"
      },
      "id": "kFUZu79iZVx7"
    },
    {
      "cell_type": "markdown",
      "source": [
        "###**Is your model training well? Adjust the learning rate, hidden size of the network, and try different activation functions and number of layers to achieve the best accuracy and report it**\n",
        "\n",
        "As per the results recorded during the training phase and testing phase, one can observe that MSE tends to decrease while testing in comparision to training the model where the MSE trend is completely abnormal. I applied following changes to the model in order to increase the accuracy:\n",
        "\n",
        "*   Kept standard learning rate because higher the rate lower the training of model.\n",
        "*   Hidden layer allows the model to learn patterns from more from the train dataset, potentially leading to better outputs. For a the same reason, I increased the number of hidden layers.\n",
        "*   Using ReLU as a hidden layer activation function and Sigmoid as output activation function for such kind of regression problem, the learning rate of model improved drastically.\n",
        "\n"
      ],
      "metadata": {
        "id": "PIKOsyOhay_a"
      },
      "id": "PIKOsyOhay_a"
    },
    {
      "cell_type": "markdown",
      "id": "86e3fc70-c6ce-4589-9930-128951290e8d",
      "metadata": {
        "id": "86e3fc70-c6ce-4589-9930-128951290e8d"
      },
      "source": [
        "## Task 4\n",
        "\n",
        "In this task, you will try to predict the number of crime victims as a **class number**. Therefore the machine learning problem is a **classification** problem.\n",
        "\n",
        "* Repeat all the steps in task 3. Specifically, pay attention to the differences with regression.\n",
        "* How would you find the number of classes on the output data?\n",
        "* How is the architecture different?\n",
        "* How is the loss function different?\n",
        "* Calculate the Accuracy for test data as the number of correct classified outputs divided by the total number of test data in each epoch. Report it at the end of each epoch\n",
        "* Try a few variations of learning rate, hidden dimensions, layers, etc. What is the best accuracy that you can get?"
      ]
    },
    {
      "cell_type": "code",
      "execution_count": 295,
      "id": "7d929c52-af34-4081-92cd-3463a3fc4db1",
      "metadata": {
        "id": "7d929c52-af34-4081-92cd-3463a3fc4db1",
        "colab": {
          "base_uri": "https://localhost:8080/"
        },
        "outputId": "54623766-3b93-45e3-9e30-42e07d5df664"
      },
      "outputs": [
        {
          "output_type": "stream",
          "name": "stdout",
          "text": [
            "Epoch: 10, Loss: 3.2418339252471924, Accuracy: 52.727272033691406\n",
            "Epoch: 20, Loss: 1.5198966264724731, Accuracy: 49.09090805053711\n",
            "Epoch: 30, Loss: 1.3205968141555786, Accuracy: 50.90909194946289\n",
            "Epoch: 40, Loss: 1.2581565380096436, Accuracy: 49.09090805053711\n",
            "Epoch: 50, Loss: 1.202976942062378, Accuracy: 50.90909194946289\n",
            "Epoch: 60, Loss: 1.167077898979187, Accuracy: 52.727272033691406\n",
            "Epoch: 70, Loss: 1.1630598306655884, Accuracy: 50.90909194946289\n",
            "Epoch: 80, Loss: 1.1390653848648071, Accuracy: 50.90909194946289\n",
            "Epoch: 90, Loss: 1.1340179443359375, Accuracy: 54.54545593261719\n",
            "Epoch: 100, Loss: 1.1374683380126953, Accuracy: 58.181819915771484\n"
          ]
        }
      ],
      "source": [
        "from torch.nn.modules.activation import Softmax\n",
        "# Hyperparameters\n",
        "learning_rate = 0.001\n",
        "num_classes = len(df['VictimCount'].unique())\n",
        "input_size = 6\n",
        "num_epochs = 100\n",
        "\n",
        "# Define loss function\n",
        "loss_fn1 = nn.CrossEntropyLoss()\n",
        "\n",
        "# Define model architecture\n",
        "classification_model = nn.Sequential(\n",
        "  nn.Linear(input_size, 12),\n",
        "  nn.Linear(12, num_classes)\n",
        ")\n",
        "\n",
        "# Define optimizer\n",
        "optimizer = torch.optim.Adam(classification_model.parameters(), lr=learning_rate)\n",
        "\n",
        "# Training loop\n",
        "for epoch in range(num_epochs):\n",
        "\n",
        "  for x_batch, y_batch in train_loader:\n",
        "    # Forward pass\n",
        "    y_pred = classification_model(x_batch)\n",
        "\n",
        "    # Calculate loss\n",
        "    loss = loss_fn1(y_pred, y_batch.long())\n",
        "\n",
        "    # Backward pass\n",
        "    loss.backward()\n",
        "\n",
        "    # Update weights\n",
        "    optimizer.step()\n",
        "\n",
        "    #Zero the gradients after updating\n",
        "    optimizer.zero_grad()\n",
        "\n",
        "\n",
        "  # Calculate test loss\n",
        "  with torch.no_grad():\n",
        "    correct = 0\n",
        "    total = 0\n",
        "    accuracy = 0\n",
        "    for x_test, y_test in test_loader:\n",
        "          # Load images with gradient accumulation capabilities\n",
        "          x_test = x_test.requires_grad_()\n",
        "\n",
        "          # Forward pass on test data to get predictions.\n",
        "          outputs = classification_model(x_test)\n",
        "\n",
        "          test_loss = loss_fn1(outputs,y_test.long())\n",
        "          # Get predictions from the maximum value\n",
        "          _, predicted = torch.max(outputs.data, 1)\n",
        "\n",
        "          # Total number of labels\n",
        "          total += y_test.size(0)\n",
        "\n",
        "          # Total correct predictions\n",
        "          correct += (predicted == y_test).sum()\n",
        "\n",
        "          Curr_accuracy = 100 * correct / total\n",
        "\n",
        "  if (epoch+1) % 10 == 0:\n",
        "    print(f'Epoch: {epoch+1}, Loss: {test_loss}, Accuracy: {Curr_accuracy}')\n"
      ]
    },
    {
      "cell_type": "markdown",
      "source": [
        "###**Differences observed in comparision to regression task.**\n",
        "Some of noticable changes observed in classification are listed as below:\n",
        "\n",
        "* Generally for classification models we use softmax as output activation function and cross entropy loss  as loss function.\n",
        "* Using number of classes as output because we're predicting the range of victims rather than predicting single value for number of victims.\n",
        "* Calculating accuracy rather than finding MSE.\n",
        "\n"
      ],
      "metadata": {
        "id": "W7pTJ8VOqaof"
      },
      "id": "W7pTJ8VOqaof"
    },
    {
      "cell_type": "markdown",
      "source": [
        "###**How would you find the number of classes on the output data?**\n",
        "Number of classes can be obtained by finding unique values in the column victim count of the given dataframe."
      ],
      "metadata": {
        "id": "fiTTAWiKuY6a"
      },
      "id": "fiTTAWiKuY6a"
    },
    {
      "cell_type": "markdown",
      "source": [
        "###**How is the architecture different?**\n",
        "As compared to regression task, the only difference in the architecture can be seen at the output of layer and the output activation function. We are using number of classes as output and softmax as output activation function. However, the accuracy of the model became constant when using the activation function, so I didn't made use of that."
      ],
      "metadata": {
        "id": "cagPIHEDsreT"
      },
      "id": "cagPIHEDsreT"
    },
    {
      "cell_type": "markdown",
      "source": [
        "###**How is the loss function different?**\n",
        "For classification, we typically use cross-entropy loss or negative log likelihood loss. These include:\n",
        "* nn.CrossEntropyLoss()\n",
        "\n",
        "These losses expect the model output to be log probabilities for each class. The target is a integer. Cross entropy calculates the probability error between the predicted and true distributions. It measures how well the model predicts the true distribution."
      ],
      "metadata": {
        "id": "FvSoOij0uCdp"
      },
      "id": "FvSoOij0uCdp"
    },
    {
      "cell_type": "markdown",
      "id": "84d2a304-6197-4cd9-b31e-745f7862f213",
      "metadata": {
        "id": "84d2a304-6197-4cd9-b31e-745f7862f213"
      },
      "source": [
        "## Task 5"
      ]
    },
    {
      "cell_type": "markdown",
      "id": "d6e4ef16-d828-45e5-bd58-1c49fcfecf52",
      "metadata": {
        "id": "d6e4ef16-d828-45e5-bd58-1c49fcfecf52"
      },
      "source": [
        "### Reflect on your results\n",
        "\n",
        "* Write a paragraph about your experience with tasks 3 and 4. How do you compare the results? Which one worked better? Why?\n",
        "* Write a piece of code that finds an example of a  miss-classification. Calculate the probabilities for the output classes and plot them in a bar chart. Also, indicate what is the correct class label."
      ]
    },
    {
      "cell_type": "markdown",
      "source": [
        "Task 3 was a regression problem of predicting the exact values of victim count whereas, Task 4 seemed to be easy as to generate a class of victim count. Model architecture was similar in both the problems except the output activation function and the output layer. Moreover, regression was all about reducing the MSE while classification focused on increasing the accuracy of the model. Overall, I gained a better understanding of models under different tasks while tunning the hyperparameter for best learning rate."
      ],
      "metadata": {
        "id": "WXrnsKGo6sIa"
      },
      "id": "WXrnsKGo6sIa"
    },
    {
      "cell_type": "markdown",
      "source": [
        "###**How do you compare the results? Which one worked better? Why?**\n",
        "While the classification strategy discretizes the values into classes, the regression approach predicts the number of victims directly. The classification strategy performed better, probably because it is easier to categorize the problem into classes rather than to anticipate the exact count, which is a challenging task to predict."
      ],
      "metadata": {
        "id": "ixboVGQSwsaC"
      },
      "id": "ixboVGQSwsaC"
    },
    {
      "cell_type": "code",
      "source": [
        "with torch.no_grad():\n",
        "    # Find and visualize a misclassification\n",
        "    for x_test, y_test in test_loader:\n",
        "        test_logits = classification_model(x_test)\n",
        "        probabilities = torch.softmax(test_logits, dim=1)\n",
        "        predicted_class = torch.argmax(probabilities, dim=1)\n",
        "        incorrect_indices = (predicted_class != y_test).nonzero()\n",
        "\n",
        "        for idx in incorrect_indices:\n",
        "            sample_data = x_test[idx].unsqueeze(0)  # Get the misclassified example\n",
        "            sample_target = y_test[idx]  # Correct target label\n",
        "            predicted_target = predicted_class[idx]  # Predicted target label\n",
        "            probabilities_for_sample = probabilities[idx]\n",
        "\n",
        "            # Plotting the bar chart for probabilities\n",
        "            classes = np.arange(probabilities_for_sample.size(1))\n",
        "            plt.bar(classes, probabilities_for_sample.squeeze().numpy())\n",
        "            plt.xlabel('Class')\n",
        "            plt.ylabel('Probability')\n",
        "            plt.xticks(classes)\n",
        "            plt.title(f'Predicted as {predicted_target.item()}, Actual: {sample_target.item()}')\n",
        "            plt.show()\n",
        "            break  # Break after showing one misclassification\n",
        "        break  # Break after checking one batc"
      ],
      "metadata": {
        "colab": {
          "base_uri": "https://localhost:8080/",
          "height": 472
        },
        "id": "kiTh8fcDJkgi",
        "outputId": "dc8bbb2c-4aed-4e4e-9497-60bc1c2832bf"
      },
      "id": "kiTh8fcDJkgi",
      "execution_count": 288,
      "outputs": [
        {
          "output_type": "display_data",
          "data": {
            "text/plain": [
              "<Figure size 640x480 with 1 Axes>"
            ],
            "image/png": "[encoded data removed]"
          },
          "metadata": {}
        }
      ]
    },
    {
      "cell_type": "markdown",
      "id": "5b000b0b-fa37-4f8d-8ec7-0a1e6e749424",
      "metadata": {
        "id": "5b000b0b-fa37-4f8d-8ec7-0a1e6e749424"
      },
      "source": [
        "## Task 6: Exploring the patterns in raw data\n",
        "\n",
        "* Plot the crime incidents as a `scatter` plot using the corrdinates. Use the color property of each datapoint to indicate the day of the week. Is there a pattern in the plot?\n",
        "* Now make a new scatter plot and use the color property of each datapoint to indicate the number of persons involved in the incident. Is there a pattern here?\n",
        "* use numpy (or pandas if you like) to sort the number of crimes reported by the day of the week. What days are most frequent?\n"
      ]
    },
    {
      "cell_type": "code",
      "execution_count": 289,
      "id": "5b396aaf-5d1a-49cd-ae1d-b63af7e561f5",
      "metadata": {
        "id": "5b396aaf-5d1a-49cd-ae1d-b63af7e561f5",
        "colab": {
          "base_uri": "https://localhost:8080/",
          "height": 472
        },
        "outputId": "550aac2e-b72e-4262-837d-8fabea34c68e"
      },
      "outputs": [
        {
          "output_type": "display_data",
          "data": {
            "text/plain": [
              "<Figure size 640x480 with 2 Axes>"
            ],
            "image/png": "[encoded data removed]"
          },
          "metadata": {}
        }
      ],
      "source": [
        "# Scatter plot with color as day of week\n",
        "plt.scatter(df['X'], df['Y'], c=df['DayOfWeek'])\n",
        "plt.colorbar()\n",
        "plt.title(\"Crimes by Day of Week\")\n",
        "plt.xlabel('Latitude')\n",
        "plt.ylabel('Longitude')\n",
        "plt.show()"
      ]
    },
    {
      "cell_type": "markdown",
      "source": [
        "Upon examining, it is evident that while there are a few outliers, the majority of victims and crime scenes occurred inside a specific area, the data is not dispersed, and the majority of crimes are committed on weekends."
      ],
      "metadata": {
        "id": "4c1KPJSt1t_q"
      },
      "id": "4c1KPJSt1t_q"
    },
    {
      "cell_type": "code",
      "source": [
        "# Scatter plot with color as victim count\n",
        "plt.scatter(df['X'], df['Y'], c=df['VictimCount'])\n",
        "plt.colorbar()\n",
        "plt.title(\"Crimes by Victim Count\")\n",
        "plt.xlabel('Latitude')\n",
        "plt.ylabel('Longitude')\n",
        "plt.show()"
      ],
      "metadata": {
        "colab": {
          "base_uri": "https://localhost:8080/",
          "height": 472
        },
        "id": "yz7yL-c4xZ1i",
        "outputId": "0b1e2835-6765-488a-8a02-913b04a5b3e7"
      },
      "id": "yz7yL-c4xZ1i",
      "execution_count": 290,
      "outputs": [
        {
          "output_type": "display_data",
          "data": {
            "text/plain": [
              "<Figure size 640x480 with 2 Axes>"
            ],
            "image/png": "[encoded data removed]"
          },
          "metadata": {}
        }
      ]
    },
    {
      "cell_type": "markdown",
      "source": [
        "There aren't many outliers, but the majority of victims and crime scenes occurred in a specific area, with a higher concentration of 3 or 4 average victims in the specific area."
      ],
      "metadata": {
        "id": "_YiljObj2-h0"
      },
      "id": "_YiljObj2-h0"
    },
    {
      "cell_type": "code",
      "source": [
        "# Sorting days by the frequency\n",
        "days = df['DayOfWeek'].value_counts().index\n",
        "counts = df['DayOfWeek'].value_counts().values\n",
        "plt.bar(days, counts)\n",
        "plt.xticks(days)\n",
        "plt.title(\"Crimes by Day of the Week\")\n",
        "plt.xlabel('Day of the Week')\n",
        "plt.ylabel('Number of Crimes')\n",
        "plt.show()\n",
        "\n",
        "# Display the day with the maximum crimes.\n",
        "highest_crime_day = days[0]\n",
        "print(f\"\\nThe most frequent day for crimes is: {highest_crime_day}\")"
      ],
      "metadata": {
        "colab": {
          "base_uri": "https://localhost:8080/",
          "height": 507
        },
        "id": "hEl-24RnxdG1",
        "outputId": "d2e34602-e9f3-4683-f193-9180ce47b712"
      },
      "id": "hEl-24RnxdG1",
      "execution_count": 291,
      "outputs": [
        {
          "output_type": "display_data",
          "data": {
            "text/plain": [
              "<Figure size 640x480 with 1 Axes>"
            ],
            "image/png": "[encoded data removed]"
          },
          "metadata": {}
        },
        {
          "output_type": "stream",
          "name": "stdout",
          "text": [
            "\n",
            "The most frequent day for crimes is: 4\n"
          ]
        }
      ]
    },
    {
      "cell_type": "markdown",
      "source": [
        "##**References:**\n",
        "\n",
        "* https://github.com/elswit/Fall-23-APML-Public/blob/main/Tutorials/Deep-Learning-Basics.ipynb\n",
        "* https://github.com/mrdbourke/pytorch-deep-learning/blob/main/docs/02_pytorch_classification.ipynb"
      ],
      "metadata": {
        "id": "DytJBXbZ35I4"
      },
      "id": "DytJBXbZ35I4"
    }
  ],
  "metadata": {
    "kernelspec": {
      "display_name": "Python 3 (ipykernel)",
      "language": "python",
      "name": "python3"
    },
    "language_info": {
      "codemirror_mode": {
        "name": "ipython",
        "version": 3
      },
      "file_extension": ".py",
      "mimetype": "text/x-python",
      "name": "python",
      "nbconvert_exporter": "python",
      "pygments_lexer": "ipython3",
      "version": "3.11.5"
    },
    "colab": {
      "provenance": []
    }
  },
  "nbformat": 4,
  "nbformat_minor": 5
}